{
 "cells": [
  {
   "cell_type": "code",
   "execution_count": 17,
   "metadata": {},
   "outputs": [
    {
     "name": "stderr",
     "output_type": "stream",
     "text": [
      "/Users/franciscodelgadoayala/anaconda3/lib/python3.11/site-packages/numba/core/decorators.py:262: NumbaDeprecationWarning: \u001b[1mnumba.generated_jit is deprecated. Please see the documentation at: https://numba.readthedocs.io/en/stable/reference/deprecation.html#deprecation-of-generated-jit for more information and advice on a suitable replacement.\u001b[0m\n",
      "  warnings.warn(msg, NumbaDeprecationWarning)\n",
      "/Users/franciscodelgadoayala/anaconda3/lib/python3.11/site-packages/visions/backends/shared/nan_handling.py:50: NumbaDeprecationWarning: \u001b[1mThe 'nopython' keyword argument was not supplied to the 'numba.jit' decorator. The implicit default value for this argument is currently False, but it will be changed to True in Numba 0.59.0. See https://numba.readthedocs.io/en/stable/reference/deprecation.html#deprecation-of-object-mode-fall-back-behaviour-when-using-jit for details.\u001b[0m\n",
      "  @nb.jit\n"
     ]
    }
   ],
   "source": [
    "import pandas as pd\n",
    "import numpy as np\n",
    "import matplotlib.pyplot as plt\n",
    "%matplotlib inline\n",
    "import seaborn as sns\n",
    "import scipy.stats as stats\n",
    "from scipy.stats import shapiro, kstest, anderson, zscore\n",
    "import openpyxl as op\n",
    "import sklearn\n",
    "import ydata_profiling as ydp"
   ]
  },
  {
   "cell_type": "code",
   "execution_count": 10,
   "metadata": {},
   "outputs": [],
   "source": [
    "archivo_sin_duplicados = 'datos_unidos.xlsx'"
   ]
  },
  {
   "cell_type": "code",
   "execution_count": 11,
   "metadata": {},
   "outputs": [
    {
     "name": "stdout",
     "output_type": "stream",
     "text": [
      "<class 'pandas.core.frame.DataFrame'>\n",
      "RangeIndex: 1318 entries, 0 to 1317\n",
      "Data columns (total 12 columns):\n",
      " #   Column  Non-Null Count  Dtype  \n",
      "---  ------  --------------  -----  \n",
      " 0   e       1318 non-null   int64  \n",
      " 1   s       1318 non-null   int64  \n",
      " 2   u       1272 non-null   float64\n",
      " 3   p       1318 non-null   float64\n",
      " 4   t       1318 non-null   float64\n",
      " 5   ts      1307 non-null   float64\n",
      " 6   td      1307 non-null   float64\n",
      " 7   gs      1300 non-null   float64\n",
      " 8   c       1300 non-null   float64\n",
      " 9   hdl     1293 non-null   float64\n",
      " 10  cc      1129 non-null   float64\n",
      " 11  pp      254 non-null    float64\n",
      "dtypes: float64(10), int64(2)\n",
      "memory usage: 123.7 KB\n"
     ]
    }
   ],
   "source": [
    "df = pd.read_excel(archivo_sin_duplicados, sheet_name = 'p101')\n",
    "df.info()"
   ]
  },
  {
   "cell_type": "markdown",
   "metadata": {},
   "source": [
    "# crea un perfil con ydata_profiling\n",
    "profile = ydp.ProfileReport(df)\n",
    "# muestra el perfil\n",
    "profile.to_file('perfil_p101.html')"
   ]
  },
  {
   "cell_type": "code",
   "execution_count": 12,
   "metadata": {},
   "outputs": [],
   "source": [
    "df_sin_duplicados = df.drop_duplicates()"
   ]
  },
  {
   "cell_type": "code",
   "execution_count": 13,
   "metadata": {},
   "outputs": [
    {
     "name": "stdout",
     "output_type": "stream",
     "text": [
      "<class 'pandas.core.frame.DataFrame'>\n",
      "Int64Index: 675 entries, 0 to 1317\n",
      "Data columns (total 12 columns):\n",
      " #   Column  Non-Null Count  Dtype  \n",
      "---  ------  --------------  -----  \n",
      " 0   e       675 non-null    int64  \n",
      " 1   s       675 non-null    int64  \n",
      " 2   u       634 non-null    float64\n",
      " 3   p       675 non-null    float64\n",
      " 4   t       675 non-null    float64\n",
      " 5   ts      668 non-null    float64\n",
      " 6   td      668 non-null    float64\n",
      " 7   gs      657 non-null    float64\n",
      " 8   c       657 non-null    float64\n",
      " 9   hdl     650 non-null    float64\n",
      " 10  cc      575 non-null    float64\n",
      " 11  pp      139 non-null    float64\n",
      "dtypes: float64(10), int64(2)\n",
      "memory usage: 68.6 KB\n"
     ]
    }
   ],
   "source": [
    "df_sin_duplicados.info()"
   ]
  },
  {
   "cell_type": "code",
   "execution_count": 16,
   "metadata": {},
   "outputs": [
    {
     "data": {
      "text/plain": [
       "e        0\n",
       "s        0\n",
       "u       41\n",
       "p        0\n",
       "t        0\n",
       "ts       7\n",
       "td       7\n",
       "gs      18\n",
       "c       18\n",
       "hdl     25\n",
       "cc     100\n",
       "pp     536\n",
       "dtype: int64"
      ]
     },
     "execution_count": 16,
     "metadata": {},
     "output_type": "execute_result"
    }
   ],
   "source": [
    "df_sin_duplicados.isnull().sum()"
   ]
  },
  {
   "cell_type": "code",
   "execution_count": 14,
   "metadata": {},
   "outputs": [],
   "source": [
    "# 3. Definimos una función para exportar los datos imputados a un archivo excel\n",
    "def exportar_imputados_a_excel (df, sheet_name):\n",
    "    filepath = 'datos_unidos.xlsx'\n",
    "    with pd.ExcelWriter(filepath, mode = 'a', if_sheet_exists = 'replace') as writer:\n",
    "        df.to_excel(writer, sheet_name = sheet_name, index = False)"
   ]
  },
  {
   "cell_type": "code",
   "execution_count": 15,
   "metadata": {},
   "outputs": [],
   "source": [
    "exportar_imputados_a_excel(df_sin_duplicados, 'p202')"
   ]
  }
 ],
 "metadata": {
  "kernelspec": {
   "display_name": "base",
   "language": "python",
   "name": "python3"
  },
  "language_info": {
   "codemirror_mode": {
    "name": "ipython",
    "version": 3
   },
   "file_extension": ".py",
   "mimetype": "text/x-python",
   "name": "python",
   "nbconvert_exporter": "python",
   "pygments_lexer": "ipython3",
   "version": "3.11.4"
  }
 },
 "nbformat": 4,
 "nbformat_minor": 2
}
