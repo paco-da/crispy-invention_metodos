{
 "cells": [
  {
   "cell_type": "markdown",
   "metadata": {},
   "source": [
    "Se evalua primero con\n",
    "Accuracy despues ROC/AUC y despues Presicion\n",
    "PRECISION Y RECALL es lo mismo a F1 Y despues curvas"
   ]
  },
  {
   "cell_type": "code",
   "execution_count": null,
   "metadata": {},
   "outputs": [],
   "source": [
    "# Plots"
   ]
  },
  {
   "cell_type": "code",
   "execution_count": null,
   "metadata": {},
   "outputs": [],
   "source": [
    "# Facet Grid:\n",
    "# Seaborn's FacetGrid can be used if you want to create a grid of plots based on the values of one of the variables. This is useful if one of your variables is categorical and you want to see the relationships among the other three within each category.\n",
    "\n",
    "# Assuming 'var4' is a categorical variable\n",
    "g = sns.FacetGrid(df, col='var4')\n",
    "g.map(plt.scatter, 'var1', 'var2')\n",
    "plt.show()"
   ]
  },
  {
   "cell_type": "code",
   "execution_count": null,
   "metadata": {},
   "outputs": [],
   "source": [
    "# 3D Plot with Color Coding:\n",
    "# If you're comfortable stepping outside Seaborn, you can create a 3D scatter plot using Matplotlib, using one of the variables to color-code the points.\n",
    "\n",
    "from mpl_toolkits.mplot3d import Axes3D\n",
    "import matplotlib.pyplot as plt\n",
    "\n",
    "fig = plt.figure()\n",
    "ax = fig.add_subplot(111, projection='3d')\n",
    "\n",
    "x = df['var1']\n",
    "y = df['var2']\n",
    "z = df['var3']\n",
    "colors = df['var4']  # Assuming 'var4' is suitable for color coding\n",
    "\n",
    "ax.scatter(x, y, z, c=colors)\n",
    "\n",
    "ax.set_xlabel('var1')\n",
    "ax.set_ylabel('var2')\n",
    "ax.set_zlabel('var3')\n",
    "\n",
    "plt.show()\n"
   ]
  }
 ],
 "metadata": {
  "language_info": {
   "name": "python"
  }
 },
 "nbformat": 4,
 "nbformat_minor": 2
}
